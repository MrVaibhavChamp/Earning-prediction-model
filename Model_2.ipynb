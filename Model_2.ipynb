{
 "cells": [
  {
   "cell_type": "code",
   "execution_count": 19,
   "metadata": {
    "execution": {
     "iopub.execute_input": "2022-07-17T12:48:18.567854Z",
     "iopub.status.busy": "2022-07-17T12:48:18.567487Z",
     "iopub.status.idle": "2022-07-17T12:48:18.573999Z",
     "shell.execute_reply": "2022-07-17T12:48:18.572712Z",
     "shell.execute_reply.started": "2022-07-17T12:48:18.567820Z"
    }
   },
   "outputs": [],
   "source": [
    "import numpy as np\n",
    "import pandas as pd\n",
    "\n",
    "from sklearn import preprocessing\n",
    "from sklearn.model_selection import train_test_split\n",
    "from sklearn.model_selection import RandomizedSearchCV\n",
    "from sklearn.linear_model import LogisticRegression\n",
    "from sklearn.tree import DecisionTreeClassifier\n",
    "from tqdm.auto import tqdm\n",
    "from sklearn.metrics import f1_score\n",
    "from sklearn.ensemble import RandomForestClassifier\n",
    "from sklearn.preprocessing import MinMaxScaler\n",
    "from sklearn.ensemble import GradientBoostingClassifier \n",
    "import xgboost as xgb\n",
    "import warnings\n",
    "\n",
    "warnings.filterwarnings('ignore')"
   ]
  },
  {
   "cell_type": "code",
   "execution_count": 2,
   "metadata": {
    "execution": {
     "iopub.execute_input": "2022-07-17T12:48:22.831308Z",
     "iopub.status.busy": "2022-07-17T12:48:22.830914Z",
     "iopub.status.idle": "2022-07-17T12:48:22.895505Z",
     "shell.execute_reply": "2022-07-17T12:48:22.894329Z",
     "shell.execute_reply.started": "2022-07-17T12:48:22.831276Z"
    }
   },
   "outputs": [],
   "source": [
    "train_df = pd.read_csv(\"train.csv\")"
   ]
  },
  {
   "cell_type": "code",
   "execution_count": 3,
   "metadata": {
    "execution": {
     "iopub.execute_input": "2022-07-17T12:48:27.083508Z",
     "iopub.status.busy": "2022-07-17T12:48:27.083095Z",
     "iopub.status.idle": "2022-07-17T12:48:27.090197Z",
     "shell.execute_reply": "2022-07-17T12:48:27.088873Z",
     "shell.execute_reply.started": "2022-07-17T12:48:27.083474Z"
    }
   },
   "outputs": [
    {
     "name": "stdout",
     "output_type": "stream",
     "text": [
      "(13842, 16)\n"
     ]
    }
   ],
   "source": [
    "print(train_df.shape)"
   ]
  },
  {
   "cell_type": "code",
   "execution_count": 4,
   "metadata": {
    "execution": {
     "iopub.execute_input": "2022-07-17T12:48:29.770742Z",
     "iopub.status.busy": "2022-07-17T12:48:29.770340Z",
     "iopub.status.idle": "2022-07-17T12:48:29.800455Z",
     "shell.execute_reply": "2022-07-17T12:48:29.799569Z",
     "shell.execute_reply.started": "2022-07-17T12:48:29.770708Z"
    }
   },
   "outputs": [
    {
     "data": {
      "text/html": [
       "<div>\n",
       "<style scoped>\n",
       "    .dataframe tbody tr th:only-of-type {\n",
       "        vertical-align: middle;\n",
       "    }\n",
       "\n",
       "    .dataframe tbody tr th {\n",
       "        vertical-align: top;\n",
       "    }\n",
       "\n",
       "    .dataframe thead th {\n",
       "        text-align: right;\n",
       "    }\n",
       "</style>\n",
       "<table border=\"1\" class=\"dataframe\">\n",
       "  <thead>\n",
       "    <tr style=\"text-align: right;\">\n",
       "      <th></th>\n",
       "      <th>id</th>\n",
       "      <th>Age</th>\n",
       "      <th>Working_class</th>\n",
       "      <th>fnlwgt</th>\n",
       "      <th>education</th>\n",
       "      <th>education_num</th>\n",
       "      <th>marital_status</th>\n",
       "      <th>Occupation</th>\n",
       "      <th>relationship</th>\n",
       "      <th>race</th>\n",
       "      <th>gender</th>\n",
       "      <th>capital_gain</th>\n",
       "      <th>capital_loss</th>\n",
       "      <th>hours_per_week</th>\n",
       "      <th>native_country</th>\n",
       "      <th>earning</th>\n",
       "    </tr>\n",
       "  </thead>\n",
       "  <tbody>\n",
       "    <tr>\n",
       "      <th>0</th>\n",
       "      <td>0</td>\n",
       "      <td>37</td>\n",
       "      <td>Private</td>\n",
       "      <td>280966</td>\n",
       "      <td>Bachelors</td>\n",
       "      <td>13</td>\n",
       "      <td>Married-civ-spouse</td>\n",
       "      <td>Handlers-cleaners</td>\n",
       "      <td>Husband</td>\n",
       "      <td>White</td>\n",
       "      <td>Male</td>\n",
       "      <td>0</td>\n",
       "      <td>0</td>\n",
       "      <td>40</td>\n",
       "      <td>United-States</td>\n",
       "      <td>0</td>\n",
       "    </tr>\n",
       "    <tr>\n",
       "      <th>1</th>\n",
       "      <td>1</td>\n",
       "      <td>41</td>\n",
       "      <td>Private</td>\n",
       "      <td>205153</td>\n",
       "      <td>Assoc-voc</td>\n",
       "      <td>11</td>\n",
       "      <td>Married-civ-spouse</td>\n",
       "      <td>Exec-managerial</td>\n",
       "      <td>Husband</td>\n",
       "      <td>White</td>\n",
       "      <td>Male</td>\n",
       "      <td>0</td>\n",
       "      <td>0</td>\n",
       "      <td>40</td>\n",
       "      <td>United-States</td>\n",
       "      <td>1</td>\n",
       "    </tr>\n",
       "    <tr>\n",
       "      <th>2</th>\n",
       "      <td>2</td>\n",
       "      <td>23</td>\n",
       "      <td>Private</td>\n",
       "      <td>237720</td>\n",
       "      <td>Bachelors</td>\n",
       "      <td>13</td>\n",
       "      <td>Never-married</td>\n",
       "      <td>Prof-specialty</td>\n",
       "      <td>Not-in-family</td>\n",
       "      <td>White</td>\n",
       "      <td>Male</td>\n",
       "      <td>0</td>\n",
       "      <td>0</td>\n",
       "      <td>38</td>\n",
       "      <td>United-States</td>\n",
       "      <td>1</td>\n",
       "    </tr>\n",
       "    <tr>\n",
       "      <th>3</th>\n",
       "      <td>3</td>\n",
       "      <td>35</td>\n",
       "      <td>Private</td>\n",
       "      <td>276153</td>\n",
       "      <td>Bachelors</td>\n",
       "      <td>13</td>\n",
       "      <td>Never-married</td>\n",
       "      <td>Tech-support</td>\n",
       "      <td>Not-in-family</td>\n",
       "      <td>Asian-Pac-Islander</td>\n",
       "      <td>Female</td>\n",
       "      <td>4650</td>\n",
       "      <td>0</td>\n",
       "      <td>40</td>\n",
       "      <td>United-States</td>\n",
       "      <td>1</td>\n",
       "    </tr>\n",
       "    <tr>\n",
       "      <th>4</th>\n",
       "      <td>4</td>\n",
       "      <td>28</td>\n",
       "      <td>Private</td>\n",
       "      <td>216178</td>\n",
       "      <td>HS-grad</td>\n",
       "      <td>9</td>\n",
       "      <td>Married-civ-spouse</td>\n",
       "      <td>Sales</td>\n",
       "      <td>Husband</td>\n",
       "      <td>White</td>\n",
       "      <td>Male</td>\n",
       "      <td>0</td>\n",
       "      <td>0</td>\n",
       "      <td>40</td>\n",
       "      <td>United-States</td>\n",
       "      <td>1</td>\n",
       "    </tr>\n",
       "  </tbody>\n",
       "</table>\n",
       "</div>"
      ],
      "text/plain": [
       "   id  Age Working_class  fnlwgt   education  education_num  \\\n",
       "0   0   37       Private  280966   Bachelors             13   \n",
       "1   1   41       Private  205153   Assoc-voc             11   \n",
       "2   2   23       Private  237720   Bachelors             13   \n",
       "3   3   35       Private  276153   Bachelors             13   \n",
       "4   4   28       Private  216178     HS-grad              9   \n",
       "\n",
       "        marital_status          Occupation    relationship  \\\n",
       "0   Married-civ-spouse   Handlers-cleaners         Husband   \n",
       "1   Married-civ-spouse     Exec-managerial         Husband   \n",
       "2        Never-married      Prof-specialty   Not-in-family   \n",
       "3        Never-married        Tech-support   Not-in-family   \n",
       "4   Married-civ-spouse               Sales         Husband   \n",
       "\n",
       "                  race   gender  capital_gain  capital_loss  hours_per_week  \\\n",
       "0                White     Male             0             0              40   \n",
       "1                White     Male             0             0              40   \n",
       "2                White     Male             0             0              38   \n",
       "3   Asian-Pac-Islander   Female          4650             0              40   \n",
       "4                White     Male             0             0              40   \n",
       "\n",
       "   native_country  earning  \n",
       "0   United-States        0  \n",
       "1   United-States        1  \n",
       "2   United-States        1  \n",
       "3   United-States        1  \n",
       "4   United-States        1  "
      ]
     },
     "execution_count": 4,
     "metadata": {},
     "output_type": "execute_result"
    }
   ],
   "source": [
    "train_df.head()"
   ]
  },
  {
   "cell_type": "code",
   "execution_count": 5,
   "metadata": {
    "execution": {
     "iopub.execute_input": "2022-07-17T12:48:31.942255Z",
     "iopub.status.busy": "2022-07-17T12:48:31.941893Z",
     "iopub.status.idle": "2022-07-17T12:48:31.949984Z",
     "shell.execute_reply": "2022-07-17T12:48:31.948648Z",
     "shell.execute_reply.started": "2022-07-17T12:48:31.942227Z"
    },
    "scrolled": false
   },
   "outputs": [
    {
     "data": {
      "text/plain": [
       "Index(['id', 'Age', 'Working_class', 'fnlwgt', 'education', 'education_num',\n",
       "       'marital_status', 'Occupation', 'relationship', 'race', 'gender',\n",
       "       'capital_gain', 'capital_loss', 'hours_per_week', 'native_country',\n",
       "       'earning'],\n",
       "      dtype='object')"
      ]
     },
     "execution_count": 5,
     "metadata": {},
     "output_type": "execute_result"
    }
   ],
   "source": [
    "train_df.columns"
   ]
  },
  {
   "cell_type": "code",
   "execution_count": 6,
   "metadata": {
    "scrolled": true
   },
   "outputs": [
    {
     "data": {
      "text/html": [
       "<div>\n",
       "<style scoped>\n",
       "    .dataframe tbody tr th:only-of-type {\n",
       "        vertical-align: middle;\n",
       "    }\n",
       "\n",
       "    .dataframe tbody tr th {\n",
       "        vertical-align: top;\n",
       "    }\n",
       "\n",
       "    .dataframe thead th {\n",
       "        text-align: right;\n",
       "    }\n",
       "</style>\n",
       "<table border=\"1\" class=\"dataframe\">\n",
       "  <thead>\n",
       "    <tr style=\"text-align: right;\">\n",
       "      <th></th>\n",
       "      <th>id</th>\n",
       "      <th>Age</th>\n",
       "      <th>fnlwgt</th>\n",
       "      <th>education_num</th>\n",
       "      <th>marital_status</th>\n",
       "      <th>relationship</th>\n",
       "      <th>capital_gain</th>\n",
       "      <th>capital_loss</th>\n",
       "      <th>hours_per_week</th>\n",
       "      <th>earning</th>\n",
       "      <th>Encoded_Working_class</th>\n",
       "      <th>Encoded_education</th>\n",
       "      <th>Encoded_race</th>\n",
       "      <th>Encoded_gender</th>\n",
       "      <th>Encoded_native_country</th>\n",
       "      <th>Encoded_Occupation</th>\n",
       "    </tr>\n",
       "  </thead>\n",
       "  <tbody>\n",
       "    <tr>\n",
       "      <th>0</th>\n",
       "      <td>0</td>\n",
       "      <td>37</td>\n",
       "      <td>280966</td>\n",
       "      <td>13</td>\n",
       "      <td>Married-civ-spouse</td>\n",
       "      <td>Husband</td>\n",
       "      <td>0</td>\n",
       "      <td>0</td>\n",
       "      <td>40</td>\n",
       "      <td>0</td>\n",
       "      <td>3</td>\n",
       "      <td>9</td>\n",
       "      <td>4</td>\n",
       "      <td>1</td>\n",
       "      <td>38</td>\n",
       "      <td>6</td>\n",
       "    </tr>\n",
       "    <tr>\n",
       "      <th>1</th>\n",
       "      <td>1</td>\n",
       "      <td>41</td>\n",
       "      <td>205153</td>\n",
       "      <td>11</td>\n",
       "      <td>Married-civ-spouse</td>\n",
       "      <td>Husband</td>\n",
       "      <td>0</td>\n",
       "      <td>0</td>\n",
       "      <td>40</td>\n",
       "      <td>1</td>\n",
       "      <td>3</td>\n",
       "      <td>8</td>\n",
       "      <td>4</td>\n",
       "      <td>1</td>\n",
       "      <td>38</td>\n",
       "      <td>4</td>\n",
       "    </tr>\n",
       "    <tr>\n",
       "      <th>2</th>\n",
       "      <td>2</td>\n",
       "      <td>23</td>\n",
       "      <td>237720</td>\n",
       "      <td>13</td>\n",
       "      <td>Never-married</td>\n",
       "      <td>Not-in-family</td>\n",
       "      <td>0</td>\n",
       "      <td>0</td>\n",
       "      <td>38</td>\n",
       "      <td>1</td>\n",
       "      <td>3</td>\n",
       "      <td>9</td>\n",
       "      <td>4</td>\n",
       "      <td>1</td>\n",
       "      <td>38</td>\n",
       "      <td>10</td>\n",
       "    </tr>\n",
       "    <tr>\n",
       "      <th>3</th>\n",
       "      <td>3</td>\n",
       "      <td>35</td>\n",
       "      <td>276153</td>\n",
       "      <td>13</td>\n",
       "      <td>Never-married</td>\n",
       "      <td>Not-in-family</td>\n",
       "      <td>4650</td>\n",
       "      <td>0</td>\n",
       "      <td>40</td>\n",
       "      <td>1</td>\n",
       "      <td>3</td>\n",
       "      <td>9</td>\n",
       "      <td>1</td>\n",
       "      <td>0</td>\n",
       "      <td>38</td>\n",
       "      <td>13</td>\n",
       "    </tr>\n",
       "    <tr>\n",
       "      <th>4</th>\n",
       "      <td>4</td>\n",
       "      <td>28</td>\n",
       "      <td>216178</td>\n",
       "      <td>9</td>\n",
       "      <td>Married-civ-spouse</td>\n",
       "      <td>Husband</td>\n",
       "      <td>0</td>\n",
       "      <td>0</td>\n",
       "      <td>40</td>\n",
       "      <td>1</td>\n",
       "      <td>3</td>\n",
       "      <td>11</td>\n",
       "      <td>4</td>\n",
       "      <td>1</td>\n",
       "      <td>38</td>\n",
       "      <td>12</td>\n",
       "    </tr>\n",
       "  </tbody>\n",
       "</table>\n",
       "</div>"
      ],
      "text/plain": [
       "   id  Age  fnlwgt  education_num       marital_status    relationship  \\\n",
       "0   0   37  280966             13   Married-civ-spouse         Husband   \n",
       "1   1   41  205153             11   Married-civ-spouse         Husband   \n",
       "2   2   23  237720             13        Never-married   Not-in-family   \n",
       "3   3   35  276153             13        Never-married   Not-in-family   \n",
       "4   4   28  216178              9   Married-civ-spouse         Husband   \n",
       "\n",
       "   capital_gain  capital_loss  hours_per_week  earning  Encoded_Working_class  \\\n",
       "0             0             0              40        0                      3   \n",
       "1             0             0              40        1                      3   \n",
       "2             0             0              38        1                      3   \n",
       "3          4650             0              40        1                      3   \n",
       "4             0             0              40        1                      3   \n",
       "\n",
       "   Encoded_education  Encoded_race  Encoded_gender  Encoded_native_country  \\\n",
       "0                  9             4               1                      38   \n",
       "1                  8             4               1                      38   \n",
       "2                  9             4               1                      38   \n",
       "3                  9             1               0                      38   \n",
       "4                 11             4               1                      38   \n",
       "\n",
       "   Encoded_Occupation  \n",
       "0                   6  \n",
       "1                   4  \n",
       "2                  10  \n",
       "3                  13  \n",
       "4                  12  "
      ]
     },
     "execution_count": 6,
     "metadata": {},
     "output_type": "execute_result"
    }
   ],
   "source": [
    "from sklearn.preprocessing import LabelEncoder\n",
    "\n",
    "le = LabelEncoder()\n",
    "train_df['Encoded_Working_class'] = le.fit_transform(train_df['Working_class'])\n",
    "train_df['Encoded_education'] = le.fit_transform(train_df['education'])\n",
    "train_df['Encoded_race'] = le.fit_transform(train_df['race'])\n",
    "train_df['Encoded_gender'] = le.fit_transform(train_df['gender'])\n",
    "train_df['Encoded_native_country'] = le.fit_transform(train_df['native_country'])\n",
    "train_df['Encoded_Occupation'] = le.fit_transform(train_df['Occupation'])\n",
    "    \n",
    "train_df.drop(['Working_class'], axis = 1, inplace=True)\n",
    "train_df.drop(['education'], axis = 1, inplace=True)\n",
    "train_df.drop(['race'], axis = 1, inplace=True)\n",
    "train_df.drop(['gender'], axis = 1, inplace=True)\n",
    "train_df.drop(['native_country'], axis = 1, inplace=True)\n",
    "train_df.drop(['Occupation'], axis = 1, inplace=True)\n",
    "\n",
    "train_df.head()"
   ]
  },
  {
   "attachments": {},
   "cell_type": "markdown",
   "metadata": {},
   "source": [
    "### Dropping all the columns that contains text"
   ]
  },
  {
   "cell_type": "code",
   "execution_count": 7,
   "metadata": {
    "execution": {
     "iopub.execute_input": "2022-07-17T12:48:34.057817Z",
     "iopub.status.busy": "2022-07-17T12:48:34.057443Z",
     "iopub.status.idle": "2022-07-17T12:48:34.063924Z",
     "shell.execute_reply": "2022-07-17T12:48:34.062704Z",
     "shell.execute_reply.started": "2022-07-17T12:48:34.057787Z"
    }
   },
   "outputs": [],
   "source": [
    "drop_col = ['id', 'marital_status', 'relationship']"
   ]
  },
  {
   "cell_type": "code",
   "execution_count": 8,
   "metadata": {
    "execution": {
     "iopub.execute_input": "2022-07-17T12:48:36.654034Z",
     "iopub.status.busy": "2022-07-17T12:48:36.652870Z",
     "iopub.status.idle": "2022-07-17T12:48:36.668545Z",
     "shell.execute_reply": "2022-07-17T12:48:36.667103Z",
     "shell.execute_reply.started": "2022-07-17T12:48:36.653977Z"
    }
   },
   "outputs": [],
   "source": [
    "train_df.drop(drop_col, axis=1, inplace=True)"
   ]
  },
  {
   "cell_type": "code",
   "execution_count": 9,
   "metadata": {
    "execution": {
     "iopub.execute_input": "2022-07-17T12:48:37.642057Z",
     "iopub.status.busy": "2022-07-17T12:48:37.641500Z",
     "iopub.status.idle": "2022-07-17T12:48:37.657011Z",
     "shell.execute_reply": "2022-07-17T12:48:37.655901Z",
     "shell.execute_reply.started": "2022-07-17T12:48:37.642009Z"
    },
    "scrolled": true
   },
   "outputs": [
    {
     "data": {
      "text/html": [
       "<div>\n",
       "<style scoped>\n",
       "    .dataframe tbody tr th:only-of-type {\n",
       "        vertical-align: middle;\n",
       "    }\n",
       "\n",
       "    .dataframe tbody tr th {\n",
       "        vertical-align: top;\n",
       "    }\n",
       "\n",
       "    .dataframe thead th {\n",
       "        text-align: right;\n",
       "    }\n",
       "</style>\n",
       "<table border=\"1\" class=\"dataframe\">\n",
       "  <thead>\n",
       "    <tr style=\"text-align: right;\">\n",
       "      <th></th>\n",
       "      <th>Age</th>\n",
       "      <th>fnlwgt</th>\n",
       "      <th>education_num</th>\n",
       "      <th>capital_gain</th>\n",
       "      <th>capital_loss</th>\n",
       "      <th>hours_per_week</th>\n",
       "      <th>earning</th>\n",
       "      <th>Encoded_Working_class</th>\n",
       "      <th>Encoded_education</th>\n",
       "      <th>Encoded_race</th>\n",
       "      <th>Encoded_gender</th>\n",
       "      <th>Encoded_native_country</th>\n",
       "      <th>Encoded_Occupation</th>\n",
       "    </tr>\n",
       "  </thead>\n",
       "  <tbody>\n",
       "    <tr>\n",
       "      <th>0</th>\n",
       "      <td>37</td>\n",
       "      <td>280966</td>\n",
       "      <td>13</td>\n",
       "      <td>0</td>\n",
       "      <td>0</td>\n",
       "      <td>40</td>\n",
       "      <td>0</td>\n",
       "      <td>3</td>\n",
       "      <td>9</td>\n",
       "      <td>4</td>\n",
       "      <td>1</td>\n",
       "      <td>38</td>\n",
       "      <td>6</td>\n",
       "    </tr>\n",
       "    <tr>\n",
       "      <th>1</th>\n",
       "      <td>41</td>\n",
       "      <td>205153</td>\n",
       "      <td>11</td>\n",
       "      <td>0</td>\n",
       "      <td>0</td>\n",
       "      <td>40</td>\n",
       "      <td>1</td>\n",
       "      <td>3</td>\n",
       "      <td>8</td>\n",
       "      <td>4</td>\n",
       "      <td>1</td>\n",
       "      <td>38</td>\n",
       "      <td>4</td>\n",
       "    </tr>\n",
       "    <tr>\n",
       "      <th>2</th>\n",
       "      <td>23</td>\n",
       "      <td>237720</td>\n",
       "      <td>13</td>\n",
       "      <td>0</td>\n",
       "      <td>0</td>\n",
       "      <td>38</td>\n",
       "      <td>1</td>\n",
       "      <td>3</td>\n",
       "      <td>9</td>\n",
       "      <td>4</td>\n",
       "      <td>1</td>\n",
       "      <td>38</td>\n",
       "      <td>10</td>\n",
       "    </tr>\n",
       "    <tr>\n",
       "      <th>3</th>\n",
       "      <td>35</td>\n",
       "      <td>276153</td>\n",
       "      <td>13</td>\n",
       "      <td>4650</td>\n",
       "      <td>0</td>\n",
       "      <td>40</td>\n",
       "      <td>1</td>\n",
       "      <td>3</td>\n",
       "      <td>9</td>\n",
       "      <td>1</td>\n",
       "      <td>0</td>\n",
       "      <td>38</td>\n",
       "      <td>13</td>\n",
       "    </tr>\n",
       "    <tr>\n",
       "      <th>4</th>\n",
       "      <td>28</td>\n",
       "      <td>216178</td>\n",
       "      <td>9</td>\n",
       "      <td>0</td>\n",
       "      <td>0</td>\n",
       "      <td>40</td>\n",
       "      <td>1</td>\n",
       "      <td>3</td>\n",
       "      <td>11</td>\n",
       "      <td>4</td>\n",
       "      <td>1</td>\n",
       "      <td>38</td>\n",
       "      <td>12</td>\n",
       "    </tr>\n",
       "  </tbody>\n",
       "</table>\n",
       "</div>"
      ],
      "text/plain": [
       "   Age  fnlwgt  education_num  capital_gain  capital_loss  hours_per_week  \\\n",
       "0   37  280966             13             0             0              40   \n",
       "1   41  205153             11             0             0              40   \n",
       "2   23  237720             13             0             0              38   \n",
       "3   35  276153             13          4650             0              40   \n",
       "4   28  216178              9             0             0              40   \n",
       "\n",
       "   earning  Encoded_Working_class  Encoded_education  Encoded_race  \\\n",
       "0        0                      3                  9             4   \n",
       "1        1                      3                  8             4   \n",
       "2        1                      3                  9             4   \n",
       "3        1                      3                  9             1   \n",
       "4        1                      3                 11             4   \n",
       "\n",
       "   Encoded_gender  Encoded_native_country  Encoded_Occupation  \n",
       "0               1                      38                   6  \n",
       "1               1                      38                   4  \n",
       "2               1                      38                  10  \n",
       "3               0                      38                  13  \n",
       "4               1                      38                  12  "
      ]
     },
     "execution_count": 9,
     "metadata": {},
     "output_type": "execute_result"
    }
   ],
   "source": [
    "train_df.head()"
   ]
  },
  {
   "attachments": {},
   "cell_type": "markdown",
   "metadata": {},
   "source": [
    "### Performing the Train Test Split"
   ]
  },
  {
   "cell_type": "code",
   "execution_count": 10,
   "metadata": {
    "execution": {
     "iopub.execute_input": "2022-07-17T12:48:43.887107Z",
     "iopub.status.busy": "2022-07-17T12:48:43.886728Z",
     "iopub.status.idle": "2022-07-17T12:48:43.896093Z",
     "shell.execute_reply": "2022-07-17T12:48:43.894855Z",
     "shell.execute_reply.started": "2022-07-17T12:48:43.887076Z"
    }
   },
   "outputs": [],
   "source": [
    "X = train_df.drop(['earning'], axis=1)\n",
    "y = train_df['earning']"
   ]
  },
  {
   "cell_type": "code",
   "execution_count": 11,
   "metadata": {},
   "outputs": [
    {
     "data": {
      "text/plain": [
       "array([[-0.45205479, -0.60615789,  0.6       , ...,  1.        ,\n",
       "         0.9       , -0.14285714],\n",
       "       [-0.34246575, -0.71837021,  0.33333333, ...,  1.        ,\n",
       "         0.9       , -0.42857143],\n",
       "       [-0.83561644, -0.67016715,  0.6       , ...,  1.        ,\n",
       "         0.9       ,  0.42857143],\n",
       "       ...,\n",
       "       [-0.8630137 , -0.93481849,  0.2       , ..., -1.        ,\n",
       "         0.9       , -0.85714286],\n",
       "       [-0.28767123, -0.5150654 ,  0.6       , ..., -1.        ,\n",
       "         0.9       , -0.28571429],\n",
       "       [-0.17808219, -0.69144831,  0.06666667, ..., -1.        ,\n",
       "         0.9       , -0.85714286]])"
      ]
     },
     "execution_count": 11,
     "metadata": {},
     "output_type": "execute_result"
    }
   ],
   "source": [
    "scaler = MinMaxScaler(feature_range=(-1, 1))\n",
    "X_scaled = scaler.fit_transform(X)\n",
    "X_scaled"
   ]
  },
  {
   "cell_type": "code",
   "execution_count": 12,
   "metadata": {
    "execution": {
     "iopub.execute_input": "2022-07-17T12:48:45.223130Z",
     "iopub.status.busy": "2022-07-17T12:48:45.222522Z",
     "iopub.status.idle": "2022-07-17T12:48:45.230876Z",
     "shell.execute_reply": "2022-07-17T12:48:45.229769Z",
     "shell.execute_reply.started": "2022-07-17T12:48:45.223094Z"
    }
   },
   "outputs": [],
   "source": [
    "X_train, X_val, y_train, y_val = train_test_split(X_scaled, y, test_size = 0.1)"
   ]
  },
  {
   "cell_type": "code",
   "execution_count": 13,
   "metadata": {
    "execution": {
     "iopub.execute_input": "2022-07-17T12:48:47.453125Z",
     "iopub.status.busy": "2022-07-17T12:48:47.452747Z",
     "iopub.status.idle": "2022-07-17T12:48:47.463088Z",
     "shell.execute_reply": "2022-07-17T12:48:47.462011Z",
     "shell.execute_reply.started": "2022-07-17T12:48:47.453093Z"
    }
   },
   "outputs": [
    {
     "name": "stdout",
     "output_type": "stream",
     "text": [
      "1    7212\n",
      "0    5245\n",
      "Name: earning, dtype: int64\n"
     ]
    }
   ],
   "source": [
    "print(y_train.value_counts())"
   ]
  },
  {
   "cell_type": "code",
   "execution_count": 14,
   "metadata": {
    "execution": {
     "iopub.execute_input": "2022-07-17T12:48:49.182245Z",
     "iopub.status.busy": "2022-07-17T12:48:49.181820Z",
     "iopub.status.idle": "2022-07-17T12:48:49.190763Z",
     "shell.execute_reply": "2022-07-17T12:48:49.189921Z",
     "shell.execute_reply.started": "2022-07-17T12:48:49.182209Z"
    }
   },
   "outputs": [
    {
     "data": {
      "text/plain": [
       "1    787\n",
       "0    598\n",
       "Name: earning, dtype: int64"
      ]
     },
     "execution_count": 14,
     "metadata": {},
     "output_type": "execute_result"
    }
   ],
   "source": [
    "y_val.value_counts()"
   ]
  },
  {
   "attachments": {},
   "cell_type": "markdown",
   "metadata": {},
   "source": [
    "### Training"
   ]
  },
  {
   "cell_type": "code",
   "execution_count": 15,
   "metadata": {},
   "outputs": [],
   "source": [
    "# clf_gini = DecisionTreeClassifier(criterion='gini', max_depth=8, random_state=0)\n",
    "\n",
    "# clf_gini.fit(X_train, y_train)\n",
    "\n",
    "# clf_gini.score(X_train, y_train)"
   ]
  },
  {
   "cell_type": "code",
   "execution_count": 16,
   "metadata": {},
   "outputs": [],
   "source": [
    "# rfc = RandomForestClassifier(n_estimators = 100, random_state = 10)\n",
    "\n",
    "# rfc.fit(X_train, y_train)\n",
    "\n",
    "# rfc.score(X_train, y_train)"
   ]
  },
  {
   "cell_type": "code",
   "execution_count": 17,
   "metadata": {},
   "outputs": [
    {
     "data": {
      "text/plain": [
       "0.7994701774102914"
      ]
     },
     "execution_count": 17,
     "metadata": {},
     "output_type": "execute_result"
    }
   ],
   "source": [
    "# gbcl = GradientBoostingClassifier(n_estimators=100, learning_rate=1.0, max_depth=1)\n",
    "# gbcl.fit(X_train, y_train)\n",
    "\n",
    "# gbcl.score(X_train, y_train)"
   ]
  },
  {
   "cell_type": "code",
   "execution_count": 15,
   "metadata": {},
   "outputs": [],
   "source": [
    "classifier = xgb.XGBRegressor()\n",
    "regressor = xgb.XGBRegressor()"
   ]
  },
  {
   "cell_type": "code",
   "execution_count": 16,
   "metadata": {},
   "outputs": [],
   "source": [
    "booster=['gbtree','gblinear']\n",
    "base_score=[0.25,0.5,0.75,1]"
   ]
  },
  {
   "cell_type": "code",
   "execution_count": 17,
   "metadata": {},
   "outputs": [],
   "source": [
    "n_estimators = [100, 500, 900, 1100, 1500]\n",
    "max_depth = [2, 3, 5, 10, 15]\n",
    "booster=['gbtree','gblinear']\n",
    "learning_rate=[0.05,0.1,0.15,0.20]\n",
    "min_child_weight=[1,2,3,4]\n",
    "\n",
    "# Define the grid of hyperparameters to search\n",
    "hyperparameter_grid = {\n",
    "    'n_estimators': n_estimators,\n",
    "    'max_depth':max_depth,\n",
    "    'learning_rate':learning_rate,\n",
    "    'min_child_weight':min_child_weight,\n",
    "    'booster':booster,\n",
    "    'base_score':base_score\n",
    "    }"
   ]
  },
  {
   "cell_type": "code",
   "execution_count": 21,
   "metadata": {},
   "outputs": [],
   "source": [
    "random_cv = RandomizedSearchCV(estimator=regressor,\n",
    "            param_distributions=hyperparameter_grid,\n",
    "            cv=5, n_iter=50,\n",
    "            scoring = 'neg_mean_absolute_error',n_jobs = 4,\n",
    "            verbose = 5, \n",
    "            return_train_score = True,\n",
    "            random_state=42)"
   ]
  },
  {
   "cell_type": "code",
   "execution_count": 22,
   "metadata": {},
   "outputs": [
    {
     "name": "stdout",
     "output_type": "stream",
     "text": [
      "Fitting 5 folds for each of 50 candidates, totalling 250 fits\n"
     ]
    },
    {
     "data": {
      "text/plain": [
       "RandomizedSearchCV(cv=5,\n",
       "                   estimator=XGBRegressor(base_score=None, booster=None,\n",
       "                                          colsample_bylevel=None,\n",
       "                                          colsample_bynode=None,\n",
       "                                          colsample_bytree=None,\n",
       "                                          enable_categorical=False, gamma=None,\n",
       "                                          gpu_id=None, importance_type=None,\n",
       "                                          interaction_constraints=None,\n",
       "                                          learning_rate=None,\n",
       "                                          max_delta_step=None, max_depth=None,\n",
       "                                          min_child_weight=None, missing=nan,\n",
       "                                          monotone_constraints=...\n",
       "                                          validate_parameters=None,\n",
       "                                          verbosity=None),\n",
       "                   n_iter=50, n_jobs=4,\n",
       "                   param_distributions={'base_score': [0.25, 0.5, 0.75, 1],\n",
       "                                        'booster': ['gbtree', 'gblinear'],\n",
       "                                        'learning_rate': [0.05, 0.1, 0.15, 0.2],\n",
       "                                        'max_depth': [2, 3, 5, 10, 15],\n",
       "                                        'min_child_weight': [1, 2, 3, 4],\n",
       "                                        'n_estimators': [100, 500, 900, 1100,\n",
       "                                                         1500]},\n",
       "                   random_state=42, return_train_score=True,\n",
       "                   scoring='neg_mean_absolute_error', verbose=5)"
      ]
     },
     "execution_count": 22,
     "metadata": {},
     "output_type": "execute_result"
    }
   ],
   "source": [
    "random_cv.fit(X_train,y_train)"
   ]
  },
  {
   "cell_type": "code",
   "execution_count": 24,
   "metadata": {},
   "outputs": [
    {
     "data": {
      "text/plain": [
       "XGBRegressor(base_score=0.25, booster='gbtree', colsample_bylevel=1,\n",
       "             colsample_bynode=1, colsample_bytree=1, enable_categorical=False,\n",
       "             gamma=0, gpu_id=-1, importance_type=None,\n",
       "             interaction_constraints='', learning_rate=0.1, max_delta_step=0,\n",
       "             max_depth=10, min_child_weight=3, missing=nan,\n",
       "             monotone_constraints='()', n_estimators=100, n_jobs=4,\n",
       "             num_parallel_tree=1, predictor='auto', random_state=0, reg_alpha=0,\n",
       "             reg_lambda=1, scale_pos_weight=1, subsample=1, tree_method='exact',\n",
       "             validate_parameters=1, verbosity=None)"
      ]
     },
     "execution_count": 24,
     "metadata": {},
     "output_type": "execute_result"
    }
   ],
   "source": [
    "random_cv.best_estimator_"
   ]
  },
  {
   "cell_type": "code",
   "execution_count": 33,
   "metadata": {},
   "outputs": [],
   "source": [
    "regressor=xgb.XGBRegressor(base_score=0.25, booster='gbtree', colsample_bylevel=1,\n",
    "       colsample_bytree=1, gamma=0, learning_rate=0.1, max_delta_step=0,\n",
    "       max_depth=2, min_child_weight=1, missing=1, n_estimators=900,\n",
    "       n_jobs=1, nthread=None, objective='reg:linear', random_state=0,\n",
    "       reg_alpha=0, reg_lambda=1, scale_pos_weight=1, seed=42,\n",
    "       silent=True, subsample=1)"
   ]
  },
  {
   "cell_type": "code",
   "execution_count": 34,
   "metadata": {},
   "outputs": [
    {
     "name": "stdout",
     "output_type": "stream",
     "text": [
      "[02:38:14] WARNING: d:\\bld\\xgboost-split_1645118015404\\work\\src\\objective\\regression_obj.cu:188: reg:linear is now deprecated in favor of reg:squarederror.\n",
      "[02:38:14] WARNING: D:\\bld\\xgboost-split_1645118015404\\work\\src\\learner.cc:576: \n",
      "Parameters: { \"silent\" } might not be used.\n",
      "\n",
      "  This could be a false alarm, with some parameters getting used by language bindings but\n",
      "  then being mistakenly passed down to XGBoost core, or some parameter actually being used\n",
      "  but getting flagged wrongly here. Please open an issue if you find any such cases.\n",
      "\n",
      "\n"
     ]
    },
    {
     "data": {
      "text/plain": [
       "XGBRegressor(base_score=0.25, booster='gbtree', colsample_bylevel=1,\n",
       "             colsample_bynode=1, colsample_bytree=1, enable_categorical=False,\n",
       "             gamma=0, gpu_id=-1, importance_type=None,\n",
       "             interaction_constraints='', learning_rate=0.1, max_delta_step=0,\n",
       "             max_depth=2, min_child_weight=1, missing=1,\n",
       "             monotone_constraints='()', n_estimators=900, n_jobs=1, nthread=1,\n",
       "             num_parallel_tree=1, objective='reg:linear', predictor='auto',\n",
       "             random_state=0, reg_alpha=0, reg_lambda=1, scale_pos_weight=1,\n",
       "             seed=42, silent=True, subsample=1, tree_method='exact', ...)"
      ]
     },
     "execution_count": 34,
     "metadata": {},
     "output_type": "execute_result"
    }
   ],
   "source": [
    "regressor.fit(X_train,y_train)"
   ]
  },
  {
   "cell_type": "code",
   "execution_count": 18,
   "metadata": {},
   "outputs": [],
   "source": [
    "# feature_scores = pd.Series(rfc.feature_importances_, index=X_train.columns).sort_values(ascending=False)\n",
    "\n",
    "# feature_scores"
   ]
  },
  {
   "cell_type": "code",
   "execution_count": 19,
   "metadata": {
    "execution": {
     "iopub.execute_input": "2022-07-17T12:48:55.946572Z",
     "iopub.status.busy": "2022-07-17T12:48:55.946149Z",
     "iopub.status.idle": "2022-07-17T12:48:56.023157Z",
     "shell.execute_reply": "2022-07-17T12:48:56.021717Z",
     "shell.execute_reply.started": "2022-07-17T12:48:55.946535Z"
    }
   },
   "outputs": [
    {
     "data": {
      "text/plain": [
       "0.792057761732852"
      ]
     },
     "execution_count": 19,
     "metadata": {},
     "output_type": "execute_result"
    }
   ],
   "source": [
    "# lr = LogisticRegression(random_state = 0, max_iter = 1000)\n",
    "# lr.fit(X_train, y_train)\n",
    "# clf_gini.score(X_val, y_val)\n",
    "# rfc.score(X_val, y_val)\n",
    "# gbcl.score(X_val, y_val)\n"
   ]
  },
  {
   "cell_type": "code",
   "execution_count": 35,
   "metadata": {
    "execution": {
     "iopub.execute_input": "2022-07-17T12:48:58.718324Z",
     "iopub.status.busy": "2022-07-17T12:48:58.717662Z",
     "iopub.status.idle": "2022-07-17T12:48:58.724474Z",
     "shell.execute_reply": "2022-07-17T12:48:58.723611Z",
     "shell.execute_reply.started": "2022-07-17T12:48:58.718275Z"
    }
   },
   "outputs": [],
   "source": [
    "y_pred_xgb = regressor.predict(X_val)"
   ]
  },
  {
   "cell_type": "code",
   "execution_count": null,
   "metadata": {
    "execution": {
     "iopub.execute_input": "2022-07-17T12:49:01.671059Z",
     "iopub.status.busy": "2022-07-17T12:49:01.670108Z",
     "iopub.status.idle": "2022-07-17T12:49:01.678942Z",
     "shell.execute_reply": "2022-07-17T12:49:01.678048Z",
     "shell.execute_reply.started": "2022-07-17T12:49:01.671018Z"
    }
   },
   "outputs": [],
   "source": [
    "# score = f1_score(y_val, y_pred_xgb)"
   ]
  },
  {
   "cell_type": "code",
   "execution_count": null,
   "metadata": {
    "execution": {
     "iopub.execute_input": "2022-07-17T12:49:02.779191Z",
     "iopub.status.busy": "2022-07-17T12:49:02.778800Z",
     "iopub.status.idle": "2022-07-17T12:49:02.786413Z",
     "shell.execute_reply": "2022-07-17T12:49:02.785020Z",
     "shell.execute_reply.started": "2022-07-17T12:49:02.779158Z"
    }
   },
   "outputs": [],
   "source": [
    "# print(score)"
   ]
  },
  {
   "cell_type": "code",
   "execution_count": null,
   "metadata": {},
   "outputs": [],
   "source": [
    "# from sklearn.metrics import accuracy_score\n",
    "\n",
    "# print('Model accuracy score : {0:0.4f}'. format(accuracy_score(y_val, y_pred_xgb)))"
   ]
  },
  {
   "attachments": {},
   "cell_type": "markdown",
   "metadata": {},
   "source": [
    "### Making Prediction"
   ]
  },
  {
   "cell_type": "code",
   "execution_count": 24,
   "metadata": {
    "execution": {
     "iopub.execute_input": "2022-07-17T12:49:06.189159Z",
     "iopub.status.busy": "2022-07-17T12:49:06.188762Z",
     "iopub.status.idle": "2022-07-17T12:49:06.250224Z",
     "shell.execute_reply": "2022-07-17T12:49:06.248766Z",
     "shell.execute_reply.started": "2022-07-17T12:49:06.189126Z"
    }
   },
   "outputs": [],
   "source": [
    "test_data = pd.read_csv(\"test.csv\")"
   ]
  },
  {
   "cell_type": "code",
   "execution_count": 25,
   "metadata": {},
   "outputs": [],
   "source": [
    "test_data1 = test_data.copy()"
   ]
  },
  {
   "cell_type": "code",
   "execution_count": 26,
   "metadata": {
    "execution": {
     "iopub.execute_input": "2022-07-17T12:49:09.560747Z",
     "iopub.status.busy": "2022-07-17T12:49:09.560352Z",
     "iopub.status.idle": "2022-07-17T12:49:09.567135Z",
     "shell.execute_reply": "2022-07-17T12:49:09.566359Z",
     "shell.execute_reply.started": "2022-07-17T12:49:09.560715Z"
    }
   },
   "outputs": [
    {
     "data": {
      "text/plain": [
       "(13840, 15)"
      ]
     },
     "execution_count": 26,
     "metadata": {},
     "output_type": "execute_result"
    }
   ],
   "source": [
    "test_data.shape"
   ]
  },
  {
   "cell_type": "code",
   "execution_count": 27,
   "metadata": {},
   "outputs": [
    {
     "data": {
      "text/html": [
       "<div>\n",
       "<style scoped>\n",
       "    .dataframe tbody tr th:only-of-type {\n",
       "        vertical-align: middle;\n",
       "    }\n",
       "\n",
       "    .dataframe tbody tr th {\n",
       "        vertical-align: top;\n",
       "    }\n",
       "\n",
       "    .dataframe thead th {\n",
       "        text-align: right;\n",
       "    }\n",
       "</style>\n",
       "<table border=\"1\" class=\"dataframe\">\n",
       "  <thead>\n",
       "    <tr style=\"text-align: right;\">\n",
       "      <th></th>\n",
       "      <th>id</th>\n",
       "      <th>Age</th>\n",
       "      <th>fnlwgt</th>\n",
       "      <th>education_num</th>\n",
       "      <th>marital_status</th>\n",
       "      <th>relationship</th>\n",
       "      <th>capital_gain</th>\n",
       "      <th>capital_loss</th>\n",
       "      <th>hours_per_week</th>\n",
       "      <th>Encoded_Working_class</th>\n",
       "      <th>Encoded_education</th>\n",
       "      <th>Encoded_race</th>\n",
       "      <th>Encoded_gender</th>\n",
       "      <th>Encoded_native_country</th>\n",
       "      <th>Encoded_Occupation</th>\n",
       "    </tr>\n",
       "  </thead>\n",
       "  <tbody>\n",
       "    <tr>\n",
       "      <th>0</th>\n",
       "      <td>0</td>\n",
       "      <td>34</td>\n",
       "      <td>174789</td>\n",
       "      <td>9</td>\n",
       "      <td>Married-civ-spouse</td>\n",
       "      <td>Husband</td>\n",
       "      <td>0</td>\n",
       "      <td>0</td>\n",
       "      <td>45</td>\n",
       "      <td>3</td>\n",
       "      <td>11</td>\n",
       "      <td>4</td>\n",
       "      <td>1</td>\n",
       "      <td>38</td>\n",
       "      <td>12</td>\n",
       "    </tr>\n",
       "    <tr>\n",
       "      <th>1</th>\n",
       "      <td>1</td>\n",
       "      <td>38</td>\n",
       "      <td>181943</td>\n",
       "      <td>13</td>\n",
       "      <td>Never-married</td>\n",
       "      <td>Not-in-family</td>\n",
       "      <td>0</td>\n",
       "      <td>0</td>\n",
       "      <td>35</td>\n",
       "      <td>3</td>\n",
       "      <td>9</td>\n",
       "      <td>4</td>\n",
       "      <td>0</td>\n",
       "      <td>38</td>\n",
       "      <td>1</td>\n",
       "    </tr>\n",
       "    <tr>\n",
       "      <th>2</th>\n",
       "      <td>2</td>\n",
       "      <td>45</td>\n",
       "      <td>175625</td>\n",
       "      <td>9</td>\n",
       "      <td>Separated</td>\n",
       "      <td>Unmarried</td>\n",
       "      <td>0</td>\n",
       "      <td>0</td>\n",
       "      <td>38</td>\n",
       "      <td>3</td>\n",
       "      <td>11</td>\n",
       "      <td>4</td>\n",
       "      <td>0</td>\n",
       "      <td>38</td>\n",
       "      <td>1</td>\n",
       "    </tr>\n",
       "    <tr>\n",
       "      <th>3</th>\n",
       "      <td>3</td>\n",
       "      <td>20</td>\n",
       "      <td>121023</td>\n",
       "      <td>10</td>\n",
       "      <td>Never-married</td>\n",
       "      <td>Own-child</td>\n",
       "      <td>0</td>\n",
       "      <td>0</td>\n",
       "      <td>15</td>\n",
       "      <td>3</td>\n",
       "      <td>15</td>\n",
       "      <td>4</td>\n",
       "      <td>0</td>\n",
       "      <td>38</td>\n",
       "      <td>1</td>\n",
       "    </tr>\n",
       "    <tr>\n",
       "      <th>4</th>\n",
       "      <td>4</td>\n",
       "      <td>41</td>\n",
       "      <td>81054</td>\n",
       "      <td>10</td>\n",
       "      <td>Divorced</td>\n",
       "      <td>Unmarried</td>\n",
       "      <td>0</td>\n",
       "      <td>0</td>\n",
       "      <td>25</td>\n",
       "      <td>2</td>\n",
       "      <td>15</td>\n",
       "      <td>4</td>\n",
       "      <td>0</td>\n",
       "      <td>38</td>\n",
       "      <td>4</td>\n",
       "    </tr>\n",
       "  </tbody>\n",
       "</table>\n",
       "</div>"
      ],
      "text/plain": [
       "   id  Age  fnlwgt  education_num       marital_status    relationship  \\\n",
       "0   0   34  174789              9   Married-civ-spouse         Husband   \n",
       "1   1   38  181943             13        Never-married   Not-in-family   \n",
       "2   2   45  175625              9            Separated       Unmarried   \n",
       "3   3   20  121023             10        Never-married       Own-child   \n",
       "4   4   41   81054             10             Divorced       Unmarried   \n",
       "\n",
       "   capital_gain  capital_loss  hours_per_week  Encoded_Working_class  \\\n",
       "0             0             0              45                      3   \n",
       "1             0             0              35                      3   \n",
       "2             0             0              38                      3   \n",
       "3             0             0              15                      3   \n",
       "4             0             0              25                      2   \n",
       "\n",
       "   Encoded_education  Encoded_race  Encoded_gender  Encoded_native_country  \\\n",
       "0                 11             4               1                      38   \n",
       "1                  9             4               0                      38   \n",
       "2                 11             4               0                      38   \n",
       "3                 15             4               0                      38   \n",
       "4                 15             4               0                      38   \n",
       "\n",
       "   Encoded_Occupation  \n",
       "0                  12  \n",
       "1                   1  \n",
       "2                   1  \n",
       "3                   1  \n",
       "4                   4  "
      ]
     },
     "execution_count": 27,
     "metadata": {},
     "output_type": "execute_result"
    }
   ],
   "source": [
    "from sklearn.preprocessing import LabelEncoder\n",
    "\n",
    "le = LabelEncoder()\n",
    "test_data['Encoded_Working_class'] = le.fit_transform(test_data['Working_class'])\n",
    "test_data['Encoded_education'] = le.fit_transform(test_data['education'])\n",
    "test_data['Encoded_race'] = le.fit_transform(test_data['race'])\n",
    "test_data['Encoded_gender'] = le.fit_transform(test_data['gender'])\n",
    "test_data['Encoded_native_country'] = le.fit_transform(test_data['native_country'])\n",
    "test_data['Encoded_Occupation'] = le.fit_transform(test_data['Occupation'])\n",
    "\n",
    "    \n",
    "test_data.drop(['Working_class'], axis = 1, inplace=True)\n",
    "test_data.drop(['education'], axis = 1, inplace=True)\n",
    "test_data.drop(['race'], axis = 1, inplace=True)\n",
    "test_data.drop(['gender'], axis = 1, inplace=True)\n",
    "test_data.drop(['native_country'], axis = 1, inplace=True)\n",
    "test_data.drop(['Occupation'], axis = 1, inplace=True)\n",
    "\n",
    "test_data.head()"
   ]
  },
  {
   "cell_type": "code",
   "execution_count": 28,
   "metadata": {
    "execution": {
     "iopub.execute_input": "2022-07-17T12:49:17.142301Z",
     "iopub.status.busy": "2022-07-17T12:49:17.141111Z",
     "iopub.status.idle": "2022-07-17T12:49:17.148812Z",
     "shell.execute_reply": "2022-07-17T12:49:17.147397Z",
     "shell.execute_reply.started": "2022-07-17T12:49:17.142258Z"
    }
   },
   "outputs": [],
   "source": [
    "test_data.drop(drop_col, axis=1, inplace=True)"
   ]
  },
  {
   "cell_type": "code",
   "execution_count": 29,
   "metadata": {
    "execution": {
     "iopub.execute_input": "2022-07-17T12:49:19.671042Z",
     "iopub.status.busy": "2022-07-17T12:49:19.670638Z",
     "iopub.status.idle": "2022-07-17T12:49:19.680851Z",
     "shell.execute_reply": "2022-07-17T12:49:19.679378Z",
     "shell.execute_reply.started": "2022-07-17T12:49:19.671011Z"
    }
   },
   "outputs": [],
   "source": [
    "# y_test = lr.predict(test_data)"
   ]
  },
  {
   "cell_type": "code",
   "execution_count": 30,
   "metadata": {},
   "outputs": [],
   "source": [
    "scaler1 = MinMaxScaler(feature_range=(-1, 1))\n",
    "test_data_scaled = scaler1.fit_transform(test_data)"
   ]
  },
  {
   "cell_type": "code",
   "execution_count": 31,
   "metadata": {},
   "outputs": [],
   "source": [
    "y_pred_xgb = xgb.predict(test_data_scaled)"
   ]
  },
  {
   "attachments": {},
   "cell_type": "markdown",
   "metadata": {},
   "source": [
    "### Submission File"
   ]
  },
  {
   "cell_type": "code",
   "execution_count": 32,
   "metadata": {
    "execution": {
     "iopub.execute_input": "2022-07-17T12:49:21.680798Z",
     "iopub.status.busy": "2022-07-17T12:49:21.680408Z",
     "iopub.status.idle": "2022-07-17T12:49:21.692511Z",
     "shell.execute_reply": "2022-07-17T12:49:21.691147Z",
     "shell.execute_reply.started": "2022-07-17T12:49:21.680759Z"
    }
   },
   "outputs": [],
   "source": [
    "result = pd.DataFrame(test_data1['id'], columns = ['id'])\n",
    "result['earning']= y_pred_xgb"
   ]
  },
  {
   "cell_type": "code",
   "execution_count": 33,
   "metadata": {
    "execution": {
     "iopub.execute_input": "2022-07-17T12:49:28.307052Z",
     "iopub.status.busy": "2022-07-17T12:49:28.306417Z",
     "iopub.status.idle": "2022-07-17T12:49:28.337765Z",
     "shell.execute_reply": "2022-07-17T12:49:28.336755Z",
     "shell.execute_reply.started": "2022-07-17T12:49:28.307018Z"
    }
   },
   "outputs": [],
   "source": [
    "result.to_csv(\"submission1.csv\", index=False)"
   ]
  }
 ],
 "metadata": {
  "kernelspec": {
   "display_name": "Python 3 (ipykernel)",
   "language": "python",
   "name": "python3"
  },
  "language_info": {
   "codemirror_mode": {
    "name": "ipython",
    "version": 3
   },
   "file_extension": ".py",
   "mimetype": "text/x-python",
   "name": "python",
   "nbconvert_exporter": "python",
   "pygments_lexer": "ipython3",
   "version": "3.9.12"
  }
 },
 "nbformat": 4,
 "nbformat_minor": 4
}
